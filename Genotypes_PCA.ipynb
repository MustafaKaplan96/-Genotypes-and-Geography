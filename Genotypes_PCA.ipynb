{
  "cells": [
    {
      "cell_type": "code",
      "execution_count": null,
      "metadata": {
        "id": "VypDEvNvpjCq"
      },
      "outputs": [],
      "source": [
        "import pandas as pd\n"
      ]
    },
    {
      "cell_type": "code",
      "execution_count": null,
      "metadata": {
        "id": "nzwv7os5p4EP"
      },
      "outputs": [],
      "source": [
        "df = pd.read_csv('matrix.csv')\n"
      ]
    },
    {
      "cell_type": "code",
      "execution_count": null,
      "metadata": {
        "id": "mTYhKk9lqMYb"
      },
      "outputs": [],
      "source": [
        "df.rename(columns={'Unnamed: 0':'Sample'}, inplace = True)"
      ]
    },
    {
      "cell_type": "code",
      "execution_count": null,
      "metadata": {
        "colab": {
          "base_uri": "https://localhost:8080/",
          "height": 505
        },
        "id": "jx3qOaosqUxQ",
        "outputId": "d773d753-b51d-4960-f607-4064221de047"
      },
      "outputs": [],
      "source": [
        "df"
      ]
    },
    {
      "cell_type": "code",
      "execution_count": null,
      "metadata": {
        "id": "0om8oLl_utwK"
      },
      "outputs": [],
      "source": [
        "non_snp_columns = ['Population code', 'Sample']"
      ]
    },
    {
      "cell_type": "code",
      "execution_count": null,
      "metadata": {
        "colab": {
          "base_uri": "https://localhost:8080/"
        },
        "id": "LLCrx8Biuxv7",
        "outputId": "3b9726be-9586-4f92-90e8-dc8a554d5c5e"
      },
      "outputs": [],
      "source": [
        "df_snps = df.drop(non_snp_columns, axis=1)\n",
        "matrix = df_snps.to_numpy()\n",
        "matrix"
      ]
    },
    {
      "cell_type": "code",
      "execution_count": null,
      "metadata": {
        "id": "Ge-m6QiXva-2"
      },
      "outputs": [],
      "source": [
        "from sklearn import decomposition"
      ]
    },
    {
      "cell_type": "code",
      "execution_count": null,
      "metadata": {
        "colab": {
          "base_uri": "https://localhost:8080/",
          "height": 74
        },
        "id": "MWlsRZoxvONS",
        "outputId": "ef0df788-114b-42e4-a871-9249f13ee914"
      },
      "outputs": [],
      "source": [
        "pca = decomposition.PCA(n_components = 2)\n",
        "pca.fit(matrix)"
      ]
    },
    {
      "cell_type": "code",
      "execution_count": null,
      "metadata": {
        "colab": {
          "base_uri": "https://localhost:8080/"
        },
        "id": "axmjdPNivjfn",
        "outputId": "d334825b-f71d-4368-b690-92dd38356f80"
      },
      "outputs": [],
      "source": [
        "to_plot = pca.transform(matrix)\n",
        "to_plot"
      ]
    },
    {
      "cell_type": "code",
      "execution_count": null,
      "metadata": {
        "id": "_Pl7dSL6vvKk"
      },
      "outputs": [],
      "source": [
        "import altair as alt"
      ]
    },
    {
      "cell_type": "code",
      "execution_count": null,
      "metadata": {
        "colab": {
          "base_uri": "https://localhost:8080/",
          "height": 423
        },
        "id": "z8DlpL56vw8A",
        "outputId": "709e055b-d217-4f4f-a03a-739a3474beb6"
      },
      "outputs": [],
      "source": [
        "df_plot = df[non_snp_columns].copy()\n",
        "df_plot"
      ]
    },
    {
      "cell_type": "code",
      "execution_count": null,
      "metadata": {
        "colab": {
          "base_uri": "https://localhost:8080/",
          "height": 423
        },
        "id": "V5NG77MewEHA",
        "outputId": "013863a7-dc8c-4643-9733-e489dcd2ca65"
      },
      "outputs": [],
      "source": [
        "df_plot['PC1'] = to_plot[:, 0]\n",
        "df_plot['PC2'] = to_plot[:, 1]\n",
        "df_plot"
      ]
    },
    {
      "cell_type": "code",
      "execution_count": null,
      "metadata": {
        "id": "Q8_JyWdkxAsh"
      },
      "outputs": [],
      "source": [
        "pop = pd.read_csv('igsr_populations.tsv', sep='\\t')\n"
      ]
    },
    {
      "cell_type": "code",
      "execution_count": null,
      "metadata": {
        "id": "kQEBc9ltxQTn"
      },
      "outputs": [],
      "source": [
        "df_plot = df_plot.merge(pop, on='Population code', how='inner')"
      ]
    },
    {
      "cell_type": "code",
      "execution_count": null,
      "metadata": {
        "colab": {
          "base_uri": "https://localhost:8080/",
          "height": 369
        },
        "id": "YtFAqguNwfou",
        "outputId": "0e388ddb-3856-4ade-a8d6-0ebc7b67ba40"
      },
      "outputs": [],
      "source": [
        "alt.Chart(df_plot).mark_point().encode(\n",
        "    x='PC1',\n",
        "    y='PC2',\n",
        "    color=alt.Color('Superpopulation name', scale = alt.Scale(scheme='category20'))\n",
        ")"
      ]
    }
  ],
  "metadata": {
    "colab": {
      "provenance": []
    },
    "kernelspec": {
      "display_name": "Python 3",
      "name": "python3"
    },
    "language_info": {
      "name": "python"
    }
  },
  "nbformat": 4,
  "nbformat_minor": 0
}
